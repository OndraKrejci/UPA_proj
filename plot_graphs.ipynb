{
 "cells": [
  {
   "cell_type": "code",
   "execution_count": null,
   "id": "1a8346ad",
   "metadata": {},
   "outputs": [],
   "source": [
    "import plot_graphs\n",
    "\n",
    "df_B1 = plot_graphs.prepare_B1()"
   ]
  },
  {
   "cell_type": "code",
   "execution_count": null,
   "id": "e2fd8454",
   "metadata": {},
   "outputs": [],
   "source": [
    "plot_graphs.plot_A1()"
   ]
  },
  {
   "cell_type": "code",
   "execution_count": null,
   "id": "958c6b2c",
   "metadata": {},
   "outputs": [],
   "source": [
    "plot_graphs.plot_A2()"
   ]
  },
  {
   "cell_type": "code",
   "execution_count": null,
   "id": "148da3bf",
   "metadata": {},
   "outputs": [],
   "source": [
    "plot_graphs.plot_B1(df_B1)"
   ]
  },
  {
   "cell_type": "code",
   "execution_count": null,
   "id": "a6001897",
   "metadata": {},
   "outputs": [],
   "source": [
    "plot_graphs.plot_D1()"
   ]
  },
  {
   "cell_type": "code",
   "execution_count": null,
   "id": "36557933",
   "metadata": {},
   "outputs": [],
   "source": [
    "plot_graphs.plot_D2()"
   ]
  }
 ],
 "metadata": {
  "kernelspec": {
   "display_name": "Python 3",
   "language": "python",
   "name": "python3"
  },
  "language_info": {
   "codemirror_mode": {
    "name": "ipython",
    "version": 3
   },
   "file_extension": ".py",
   "mimetype": "text/x-python",
   "name": "python",
   "nbconvert_exporter": "python",
   "pygments_lexer": "ipython3",
   "version": "3.6.8"
  }
 },
 "nbformat": 4,
 "nbformat_minor": 5
}
